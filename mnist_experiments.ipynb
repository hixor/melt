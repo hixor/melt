{
 "cells": [
  {
   "cell_type": "markdown",
   "metadata": {
    "toc": true
   },
   "source": [
    "<h1>Table of Contents<span class=\"tocSkip\"></span></h1>\n",
    "<div class=\"toc\"><ul class=\"toc-item\"></ul></div>"
   ]
  },
  {
   "cell_type": "code",
   "execution_count": 2,
   "metadata": {
    "ExecuteTime": {
     "end_time": "2019-06-27T21:20:21.775167Z",
     "start_time": "2019-06-27T21:20:17.691783Z"
    }
   },
   "outputs": [],
   "source": [
    "# most of this code is from the tensorflow tutorial\n",
    "\n",
    "\n",
    "import numpy as np\n",
    "import pandas as pd\n",
    "import matplotlib.pyplot as plt\n",
    "import tensorflow as tf\n",
    "import tensorflow_datasets as tfds\n",
    "import os\n",
    "import time\n",
    "from scipy import stats \n",
    "\n",
    "tf.enable_eager_execution()"
   ]
  },
  {
   "cell_type": "code",
   "execution_count": 3,
   "metadata": {
    "ExecuteTime": {
     "end_time": "2019-06-27T21:20:23.370871Z",
     "start_time": "2019-06-27T21:20:22.798382Z"
    }
   },
   "outputs": [],
   "source": [
    "# setting up mnist data\n",
    "\n",
    "mnist = tf.keras.datasets.mnist\n",
    "\n",
    "(x_train, y_train),(x_test, y_test) = mnist.load_data()\n",
    "x_train, x_test = x_train / 255.0, x_test / 255.0"
   ]
  },
  {
   "cell_type": "code",
   "execution_count": 4,
   "metadata": {
    "ExecuteTime": {
     "end_time": "2019-06-27T21:20:24.089578Z",
     "start_time": "2019-06-27T21:20:24.078013Z"
    }
   },
   "outputs": [
    {
     "data": {
      "text/plain": [
       "((60000, 28, 28), (10000, 28, 28))"
      ]
     },
     "execution_count": 4,
     "metadata": {},
     "output_type": "execute_result"
    }
   ],
   "source": [
    "x_train.shape, x_test.shape"
   ]
  },
  {
   "cell_type": "code",
   "execution_count": 6,
   "metadata": {},
   "outputs": [
    {
     "name": "stdout",
     "output_type": "stream",
     "text": [
      "Downloading data from https://storage.googleapis.com/tensorflow/tf-keras-datasets/mnist.npz\n",
      "11493376/11490434 [==============================] - 56s 5us/step\n"
     ]
    },
    {
     "name": "stderr",
     "output_type": "stream",
     "text": [
      "WARNING: Logging before flag parsing goes to stderr.\n",
      "W0619 13:07:04.153959 4345886144 deprecation.py:323] From /Users/lsorense/miniconda3/lib/python3.7/site-packages/tensorflow/python/ops/math_grad.py:1250: add_dispatch_support.<locals>.wrapper (from tensorflow.python.ops.array_ops) is deprecated and will be removed in a future version.\n",
      "Instructions for updating:\n",
      "Use tf.where in 2.0, which has the same broadcast rule as np.where\n"
     ]
    },
    {
     "name": "stdout",
     "output_type": "stream",
     "text": [
      "Epoch 1/5\n",
      "60000/60000 [==============================] - 8s 130us/sample - loss: 0.2216 - acc: 0.9346\n",
      "Epoch 2/5\n",
      "60000/60000 [==============================] - 8s 127us/sample - loss: 0.0949 - acc: 0.9711\n",
      "Epoch 3/5\n",
      "60000/60000 [==============================] - 7s 123us/sample - loss: 0.0690 - acc: 0.9784\n",
      "Epoch 4/5\n",
      "60000/60000 [==============================] - 5s 91us/sample - loss: 0.0535 - acc: 0.9827\n",
      "Epoch 5/5\n",
      "60000/60000 [==============================] - 6s 94us/sample - loss: 0.0415 - acc: 0.9865\n",
      "10000/10000 [==============================] - 0s 43us/sample - loss: 0.0581 - acc: 0.9821\n"
     ]
    },
    {
     "data": {
      "text/plain": [
       "[0.0581096921046963, 0.9821]"
      ]
     },
     "execution_count": 6,
     "metadata": {},
     "output_type": "execute_result"
    }
   ],
   "source": [
    "# high-level Keras model\n",
    "\n",
    "model = tf.keras.models.Sequential([\n",
    "  tf.keras.layers.Flatten(input_shape=(28, 28)),\n",
    "  tf.keras.layers.Dense(512, activation=tf.nn.relu),\n",
    "  tf.keras.layers.Dropout(0.2),\n",
    "  tf.keras.layers.Dense(10, activation=tf.nn.softmax)\n",
    "])\n",
    "model.compile(optimizer='adam',\n",
    "              loss='sparse_categorical_crossentropy',\n",
    "              metrics=['accuracy'])\n",
    "\n",
    "model.fit(x_train, y_train, epochs=5)\n",
    "model.evaluate(x_test, y_test)"
   ]
  },
  {
   "cell_type": "code",
   "execution_count": null,
   "metadata": {},
   "outputs": [],
   "source": [
    "# high-level Keras model in loop\n",
    "\n",
    "num_models = 5\n",
    "models = []\n",
    "\n",
    "for i in range(num_models):\n",
    "    model = tf.keras.models.Sequential([\n",
    "      tf.keras.layers.Flatten(input_shape=(28, 28)),\n",
    "      tf.keras.layers.Dense(512, activation=tf.nn.relu),\n",
    "      tf.keras.layers.Dropout(0.2),\n",
    "      tf.keras.layers.Dense(10, activation=tf.nn.softmax)\n",
    "    ])\n",
    "    model.compile(optimizer='adam',\n",
    "                  loss='sparse_categorical_crossentropy',\n",
    "                  metrics=['accuracy'])\n",
    "\n",
    "    model.fit(x_train, y_train, epochs=5)\n",
    "    models.append(model)"
   ]
  },
  {
   "cell_type": "code",
   "execution_count": 51,
   "metadata": {},
   "outputs": [
    {
     "name": "stdout",
     "output_type": "stream",
     "text": [
      "Loss:  tf.Tensor(1.4850203, shape=(), dtype=float32)\n",
      "Accuracy:  1.0\n"
     ]
    },
    {
     "data": {
      "text/plain": [
       "array([[1.9896795e-09, 2.4574625e-09, 1.5480719e-08, ..., 9.9998075e-01,\n",
       "        9.6531094e-09, 2.8743189e-06],\n",
       "       [2.8822966e-09, 1.7037626e-06, 9.9999809e-01, ..., 4.4510084e-14,\n",
       "        6.5817190e-08, 4.4665001e-13],\n",
       "       [1.6269691e-08, 9.9991024e-01, 1.6426715e-05, ..., 4.6757901e-05,\n",
       "        1.5032619e-05, 8.1201776e-08],\n",
       "       ...,\n",
       "       [1.0836306e-13, 1.7991258e-09, 3.0248940e-13, ..., 3.5904482e-06,\n",
       "        6.2107951e-08, 4.9836159e-05],\n",
       "       [2.5203140e-09, 2.8284572e-10, 5.7193634e-12, ..., 5.8851000e-09,\n",
       "        9.3742536e-04, 1.8913093e-11],\n",
       "       [1.0471130e-09, 1.4950366e-11, 2.4768034e-09, ..., 6.6273023e-14,\n",
       "        8.4541718e-10, 5.9797245e-12]], dtype=float32)"
      ]
     },
     "execution_count": 51,
     "metadata": {},
     "output_type": "execute_result"
    }
   ],
   "source": [
    "def evaluate_ensemble(model_list, x_test, y_test):\n",
    "    preds_list = [] \n",
    "    \n",
    "    for model in model_list:\n",
    "        preds = model.predict(x_test)\n",
    "        preds_list.append(preds)\n",
    "    \n",
    "    ensemble_pred = np.mean(np.stack(preds_list),axis=0)\n",
    "\n",
    "    label_pred = tf.math.argmax(ensemble_pred,axis=1)\n",
    "    \n",
    "    loss = tf.losses.softmax_cross_entropy(tf.one_hot(y_test,10), ensemble_pred)\n",
    "    print(\"Loss: \", loss)\n",
    "    \n",
    "    accuracy = 1 - (np.sum(y_test == label_pred)/10000.0)\n",
    "    print(\"Accuracy: \", accuracy)\n",
    "    \n",
    "    return ensemble_pred\n",
    "    \n",
    "\n",
    "evaluate_ensemble(models, x_test, y_test)"
   ]
  },
  {
   "cell_type": "code",
   "execution_count": null,
   "metadata": {},
   "outputs": [],
   "source": [
    "# Keras model with modified optimizer\n",
    "\n",
    "model = tf.keras.models.Sequential([\n",
    "  tf.keras.layers.Flatten(input_shape=(28, 28)),\n",
    "  tf.keras.layers.Dense(512, activation=tf.nn.relu),\n",
    "  tf.keras.layers.Dropout(0.2),\n",
    "  tf.keras.layers.Dense(10, activation=tf.nn.softmax)\n",
    "])\n",
    "# model.compile(optimizer='adam',\n",
    "#               loss='sparse_categorical_crossentropy',\n",
    "#               metrics=['accuracy'])\n",
    "\n",
    "optimizer = tf.train.GradientDescentOptimizer(learning_rate).minimize(cost)\n",
    "\n",
    "model.fit(x_train, y_train, epochs=5)\n",
    "model.evaluate(x_test, y_test)"
   ]
  }
 ],
 "metadata": {
  "kernelspec": {
   "display_name": "Python 3",
   "language": "python",
   "name": "python3"
  },
  "language_info": {
   "codemirror_mode": {
    "name": "ipython",
    "version": 3
   },
   "file_extension": ".py",
   "mimetype": "text/x-python",
   "name": "python",
   "nbconvert_exporter": "python",
   "pygments_lexer": "ipython3",
   "version": "3.7.3"
  },
  "toc": {
   "base_numbering": 1,
   "nav_menu": {},
   "number_sections": true,
   "sideBar": true,
   "skip_h1_title": false,
   "title_cell": "Table of Contents",
   "title_sidebar": "Contents",
   "toc_cell": true,
   "toc_position": {},
   "toc_section_display": true,
   "toc_window_display": false
  }
 },
 "nbformat": 4,
 "nbformat_minor": 2
}
